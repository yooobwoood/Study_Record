{
 "cells": [
  {
   "cell_type": "markdown",
   "id": "98507066",
   "metadata": {},
   "source": [
    "# Numpy\n",
    "- 벡터,행렬,다차원 배열 연산을 위한 핵심 라이브러리\n",
    "- array를 사용하여 선형대수, 데이터 처리 속도 빠르고 메모리를 효율적으로 관리\n",
    "- 정교한 브로드캐스팅(Broadcasting) 기능\n",
    "- 반복문 없이 array에 대한 처리를 지원하여 빠르고 편리"
   ]
  },
  {
   "cell_type": "code",
   "execution_count": 1,
   "id": "8efd6d3c",
   "metadata": {},
   "outputs": [],
   "source": [
    "import numpy as np"
   ]
  },
  {
   "cell_type": "markdown",
   "id": "db622240",
   "metadata": {},
   "source": [
    "## 배열 생성"
   ]
  },
  {
   "cell_type": "code",
   "execution_count": 2,
   "id": "409b5105",
   "metadata": {},
   "outputs": [],
   "source": [
    "# numpy 객체의 정보 출력\n",
    "def arr_info(arr):\n",
    "    print(f'type: {type(arr)}')\n",
    "    print(f'shape: {arr.shape},dimension: {arr.ndim},dtype: {arr.dtype}')\n",
    "    print(\"Array's Data:\\n\",arr)\n",
    "    print('-'*40)"
   ]
  },
  {
   "cell_type": "code",
   "execution_count": 3,
   "id": "c6e521bd",
   "metadata": {},
   "outputs": [
    {
     "name": "stdout",
     "output_type": "stream",
     "text": [
      "type: <class 'numpy.ndarray'>\n",
      "shape: (3,),dimension: 1,dtype: int32\n",
      "Array's Data:\n",
      " [1 2 3]\n",
      "----------------------------------------\n",
      "type: <class 'numpy.ndarray'>\n",
      "shape: (2, 3),dimension: 2,dtype: float64\n",
      "Array's Data:\n",
      " [[1.5 3.  5. ]\n",
      " [2.  4.  6. ]]\n",
      "----------------------------------------\n",
      "type: <class 'numpy.ndarray'>\n",
      "shape: (3, 3, 3),dimension: 3,dtype: int32\n",
      "Array's Data:\n",
      " [[[1 2 3]\n",
      "  [4 5 6]\n",
      "  [7 8 9]]\n",
      "\n",
      " [[1 2 3]\n",
      "  [4 5 6]\n",
      "  [7 8 9]]\n",
      "\n",
      " [[1 2 3]\n",
      "  [4 5 6]\n",
      "  [7 8 9]]]\n",
      "----------------------------------------\n"
     ]
    }
   ],
   "source": [
    "a=np.array([1,2,3])\n",
    "arr_info(a)\n",
    "\n",
    "b=np.array([[1.5,3,5],[2,4,6]])\n",
    "arr_info(b)\n",
    "\n",
    "c=np.array([\n",
    "    [[1,2,3],[4,5,6],[7,8,9]],\n",
    "    [[1,2,3],[4,5,6],[7,8,9]],\n",
    "    [[1,2,3],[4,5,6],[7,8,9]]\n",
    "])\n",
    "arr_info(c)"
   ]
  },
  {
   "cell_type": "markdown",
   "id": "6ea9a182",
   "metadata": {},
   "source": [
    "### 배열 생성 및 초기화"
   ]
  },
  {
   "cell_type": "markdown",
   "id": "f95062ff",
   "metadata": {},
   "source": [
    "**zeros()** : 모든 요소를 0으로 초기화"
   ]
  },
  {
   "cell_type": "code",
   "execution_count": 4,
   "id": "1725336b",
   "metadata": {},
   "outputs": [
    {
     "name": "stdout",
     "output_type": "stream",
     "text": [
      "type: <class 'numpy.ndarray'>\n",
      "shape: (4, 2),dimension: 2,dtype: float64\n",
      "Array's Data:\n",
      " [[0. 0.]\n",
      " [0. 0.]\n",
      " [0. 0.]\n",
      " [0. 0.]]\n",
      "----------------------------------------\n"
     ]
    }
   ],
   "source": [
    "zero = np.zeros((4,2))\n",
    "arr_info(zero)"
   ]
  },
  {
   "cell_type": "markdown",
   "id": "ae6ac5f2",
   "metadata": {},
   "source": [
    "**ones()** : 모든 요소를 1로 초기화"
   ]
  },
  {
   "cell_type": "code",
   "execution_count": 5,
   "id": "cdc49c48",
   "metadata": {},
   "outputs": [
    {
     "name": "stdout",
     "output_type": "stream",
     "text": [
      "type: <class 'numpy.ndarray'>\n",
      "shape: (4, 2),dimension: 2,dtype: float64\n",
      "Array's Data:\n",
      " [[1. 1.]\n",
      " [1. 1.]\n",
      " [1. 1.]\n",
      " [1. 1.]]\n",
      "----------------------------------------\n"
     ]
    }
   ],
   "source": [
    "one = np.ones((4,2))\n",
    "arr_info(one)"
   ]
  },
  {
   "cell_type": "markdown",
   "id": "1e356a4d",
   "metadata": {},
   "source": [
    "**np.full(shape,fill_value,...)** : 모든 요소를 fill_value(지정한 값)으로 초기화"
   ]
  },
  {
   "cell_type": "code",
   "execution_count": 6,
   "id": "2d89057d",
   "metadata": {},
   "outputs": [
    {
     "name": "stdout",
     "output_type": "stream",
     "text": [
      "type: <class 'numpy.ndarray'>\n",
      "shape: (4, 2),dimension: 2,dtype: int32\n",
      "Array's Data:\n",
      " [[5 5]\n",
      " [5 5]\n",
      " [5 5]\n",
      " [5 5]]\n",
      "----------------------------------------\n"
     ]
    }
   ],
   "source": [
    "full = np.full((4,2),5)\n",
    "arr_info(full)"
   ]
  },
  {
   "cell_type": "markdown",
   "id": "302764aa",
   "metadata": {},
   "source": [
    "**단위행렬(identity matrix) 생성** : 주 대각선의 원소가 모두 1이고 나머지 원소는 모두 0인 정사각행렬 <br>\n",
    "**np.eye(N,M=None,k=0,dtype=<class 'float'>)**"
   ]
  },
  {
   "cell_type": "code",
   "execution_count": 9,
   "id": "0168fc2d",
   "metadata": {},
   "outputs": [
    {
     "name": "stdout",
     "output_type": "stream",
     "text": [
      "type: <class 'numpy.ndarray'>\n",
      "shape: (3, 3),dimension: 2,dtype: float64\n",
      "Array's Data:\n",
      " [[1. 0. 0.]\n",
      " [0. 1. 0.]\n",
      " [0. 0. 1.]]\n",
      "----------------------------------------\n"
     ]
    }
   ],
   "source": [
    "I = np.eye((3))\n",
    "arr_info(I)"
   ]
  },
  {
   "cell_type": "markdown",
   "id": "e9499843",
   "metadata": {},
   "source": [
    "**tri()** : 삼각행렬 생성"
   ]
  },
  {
   "cell_type": "code",
   "execution_count": 7,
   "id": "079c4e1a",
   "metadata": {},
   "outputs": [
    {
     "name": "stdout",
     "output_type": "stream",
     "text": [
      "type: <class 'numpy.ndarray'>\n",
      "shape: (3, 3),dimension: 2,dtype: float64\n",
      "Array's Data:\n",
      " [[1. 0. 0.]\n",
      " [1. 1. 0.]\n",
      " [1. 1. 1.]]\n",
      "----------------------------------------\n"
     ]
    }
   ],
   "source": [
    "tri = np.tri(3)\n",
    "arr_info(tri)"
   ]
  },
  {
   "cell_type": "markdown",
   "id": "f32003b3",
   "metadata": {},
   "source": [
    "**np.empty(shape,dtype=float,order='C')**\n",
    "- 초기화되지 않은 배열을 생성\n",
    "- 초기화가 없어서 배열 생성비용이 저렴하고 빠름\n",
    "- 초기화되지 않아서 기존 메모리 위치에 존재하는 값이 있음"
   ]
  },
  {
   "cell_type": "code",
   "execution_count": 8,
   "id": "71c7199d",
   "metadata": {},
   "outputs": [
    {
     "name": "stdout",
     "output_type": "stream",
     "text": [
      "type: <class 'numpy.ndarray'>\n",
      "shape: (3, 3),dimension: 2,dtype: float64\n",
      "Array's Data:\n",
      " [[1. 0. 0.]\n",
      " [1. 1. 0.]\n",
      " [1. 1. 1.]]\n",
      "----------------------------------------\n"
     ]
    }
   ],
   "source": [
    "emt = np.empty((3,3))\n",
    "arr_info(emt)"
   ]
  },
  {
   "cell_type": "markdown",
   "id": "19959282",
   "metadata": {},
   "source": [
    "**_like()** : 지정된 배열과 shape가 같은 행렬 생성\n",
    "- **np.zeros_like()**\n",
    "- **np.ones_like()**\n",
    "- **np.full_like()**\n",
    "- **np.empty_like()**"
   ]
  },
  {
   "cell_type": "code",
   "execution_count": 13,
   "id": "c7834d0c",
   "metadata": {},
   "outputs": [
    {
     "name": "stdout",
     "output_type": "stream",
     "text": [
      "type: <class 'numpy.ndarray'>\n",
      "shape: (3, 3),dimension: 2,dtype: float64\n",
      "Array's Data:\n",
      " [[0. 0. 0.]\n",
      " [0. 0. 0.]\n",
      " [0. 0. 0.]]\n",
      "----------------------------------------\n"
     ]
    }
   ],
   "source": [
    "like = np.zeros_like(emt)\n",
    "arr_info(like)"
   ]
  },
  {
   "cell_type": "markdown",
   "id": "16d40134",
   "metadata": {},
   "source": [
    "### 데이터 생성 함수"
   ]
  },
  {
   "cell_type": "markdown",
   "id": "38ec8bd0",
   "metadata": {},
   "source": [
    "**np.arange([start],stop,[step],dtype=None)**\n",
    "- 요소의 갯수가 아닌 데이터의 간격을 기준으로 배열 생성"
   ]
  },
  {
   "cell_type": "code",
   "execution_count": 14,
   "id": "a1ee44b6",
   "metadata": {},
   "outputs": [],
   "source": [
    "import matplotlib.pyplot as plt"
   ]
  },
  {
   "cell_type": "code",
   "execution_count": 15,
   "id": "6a28e1a6",
   "metadata": {},
   "outputs": [
    {
     "name": "stdout",
     "output_type": "stream",
     "text": [
      "type: <class 'numpy.ndarray'>\n",
      "shape: (6,),dimension: 1,dtype: int32\n",
      "Array's Data:\n",
      " [ 0  5 10 15 20 25]\n",
      "----------------------------------------\n"
     ]
    },
    {
     "data": {
      "image/png": "[encoded data removed]",
      "text/plain": [
       "<Figure size 288x288 with 1 Axes>"
      ]
     },
     "metadata": {
      "needs_background": "light"
     },
     "output_type": "display_data"
    }
   ],
   "source": [
    "A = np.arange(0,30,5)\n",
    "arr_info(A)\n",
    "plt.figure(figsize=(4,4))\n",
    "plt.plot(A,'o')\n",
    "plt.show()"
   ]
  },
  {
   "cell_type": "markdown",
   "id": "16edd106",
   "metadata": {},
   "source": [
    "**np.linspace(start,stop,num=,endpoint=True,restep=False,dtype=None)**\n",
    "- 요소 개수를 기준으로 균등 간격의 배열을 생성"
   ]
  },
  {
   "cell_type": "code",
   "execution_count": 15,
   "id": "8720038a",
   "metadata": {},
   "outputs": [
    {
     "name": "stdout",
     "output_type": "stream",
     "text": [
      "type: <class 'numpy.ndarray'>\n",
      "shape: (11,),dimension: 1,dtype: float64\n",
      "Array's Data:\n",
      " [0.  0.1 0.2 0.3 0.4 0.5 0.6 0.7 0.8 0.9 1. ]\n",
      "----------------------------------------\n"
     ]
    },
    {
     "data": {
      "image/png": "[encoded data removed]",
      "text/plain": [
       "<Figure size 216x216 with 1 Axes>"
      ]
     },
     "metadata": {
      "needs_background": "light"
     },
     "output_type": "display_data"
    }
   ],
   "source": [
    "B = np.linspace(0,1,11)\n",
    "arr_info(B)\n",
    "plt.figure(figsize=(3,3))\n",
    "plt.plot(B,'o')\n",
    "plt.show()"
   ]
  },
  {
   "cell_type": "markdown",
   "id": "85e54c75",
   "metadata": {},
   "source": [
    "**np.logspace(start,stop,num=50,endpoint=True,base=10.0,dtype=None)**\n",
    "- 로그 스케일의 linspace 함수(균등간격)"
   ]
  },
  {
   "cell_type": "code",
   "execution_count": 16,
   "id": "5e920566",
   "metadata": {},
   "outputs": [
    {
     "name": "stdout",
     "output_type": "stream",
     "text": [
      "type: <class 'numpy.ndarray'>\n",
      "shape: (20,),dimension: 1,dtype: float64\n",
      "Array's Data:\n",
      " [ 1.25892541  1.40400425  1.565802    1.74624535  1.94748304  2.1719114\n",
      "  2.42220294  2.70133812  3.0126409   3.35981829  3.74700446  4.17881006\n",
      "  4.66037703  5.19743987  5.79639395  6.46437163  7.2093272   8.04013161\n",
      "  8.9666781  10.        ]\n",
      "----------------------------------------\n"
     ]
    },
    {
     "data": {
      "image/png": "[encoded data removed]",
      "text/plain": [
       "<Figure size 360x216 with 1 Axes>"
      ]
     },
     "metadata": {
      "needs_background": "light"
     },
     "output_type": "display_data"
    }
   ],
   "source": [
    "C = np.logspace(0.1,1,20)\n",
    "arr_info(C)\n",
    "plt.figure(figsize=(5,3))\n",
    "plt.plot(C,'o')\n",
    "plt.show()"
   ]
  },
  {
   "cell_type": "markdown",
   "id": "d4206c1f",
   "metadata": {},
   "source": [
    "### 랜덤값으로 배열 생성\n",
    "\n",
    "|함수|설명|\n",
    "|:---|:---|\n",
    "|**seed**|난수 발생을 위한 시드 생성(난수재연)|\n",
    "|**permutation**|순서를 임의로 바꾸거나 임의의 순열 반환|\n",
    "|**shuffle**|리스트나 배열의 순서를 뒤섞음|\n",
    "|**random**|[0,1)의 균등 분포에서 표본 추출|\n",
    "|**rand**|[0,1)의 균등 분포에서 표본 추출|\n",
    "|**randint**| 주어진 최소/최대 범위의 난수 추출|\n",
    "|**randn**|표준편차가 1, 평균값이 0인 정규분포의 표본추출|\n",
    "|**binomial**|이항분포에서 표본 추출|\n",
    "|**normal**|정규분포(가우시안)에서 표본 추출|\n",
    "|**beta**|베타분포에서 표본 추출|\n",
    "|**chisquare**|카이제곱분포에서 표본 추출|\n",
    "|**gamma**|감마분포에서 표본 추출|\n",
    "|**uniform**|균등(0,1)분포에서 표본 추출|"
   ]
  },
  {
   "cell_type": "markdown",
   "id": "9c1888c0",
   "metadata": {},
   "source": [
    "**np.random.random(size=None)**"
   ]
  },
  {
   "cell_type": "code",
   "execution_count": 17,
   "id": "3910ec91",
   "metadata": {},
   "outputs": [
    {
     "name": "stdout",
     "output_type": "stream",
     "text": [
      "type: <class 'numpy.ndarray'>\n",
      "shape: (2, 4),dimension: 2,dtype: float64\n",
      "Array's Data:\n",
      " [[0.05215291 0.02441934 0.67304389 0.25550501]\n",
      " [0.55045218 0.38039651 0.02683843 0.68744962]]\n",
      "----------------------------------------\n"
     ]
    }
   ],
   "source": [
    "ran = np.random.random((2,4))\n",
    "arr_info(ran)"
   ]
  },
  {
   "cell_type": "markdown",
   "id": "bb237268",
   "metadata": {},
   "source": [
    "**np.random.randint(low,hige=None,size=None,dtype='I')**"
   ]
  },
  {
   "cell_type": "code",
   "execution_count": 19,
   "id": "27b71e24",
   "metadata": {},
   "outputs": [
    {
     "name": "stdout",
     "output_type": "stream",
     "text": [
      "type: <class 'numpy.ndarray'>\n",
      "shape: (3, 3),dimension: 2,dtype: int32\n",
      "Array's Data:\n",
      " [[2 5 4]\n",
      " [6 9 3]\n",
      " [8 1 0]]\n",
      "----------------------------------------\n"
     ]
    }
   ],
   "source": [
    "arr_info(np.random.randint(0,10,(3,3)))"
   ]
  },
  {
   "cell_type": "markdown",
   "id": "14decf5a",
   "metadata": {},
   "source": [
    "**np.random.normal(loc=0,scale=1,size=None)**\n",
    "- loc:평균, scale:표준편차"
   ]
  },
  {
   "cell_type": "code",
   "execution_count": 20,
   "id": "f487dbc3",
   "metadata": {},
   "outputs": [
    {
     "name": "stdout",
     "output_type": "stream",
     "text": [
      "type: <class 'numpy.ndarray'>\n",
      "shape: (3, 3),dimension: 2,dtype: float64\n",
      "Array's Data:\n",
      " [[-0.04318028 -2.97091219  2.42830814]\n",
      " [ 4.10574707  4.79811876  2.44888286]\n",
      " [-0.54840573  3.69278269 -2.31564036]]\n",
      "----------------------------------------\n"
     ]
    }
   ],
   "source": [
    "arr_info(np.random.normal(2,5,(3,3)))"
   ]
  },
  {
   "cell_type": "code",
   "execution_count": 21,
   "id": "948de1ae",
   "metadata": {},
   "outputs": [
    {
     "data": {
      "image/png": "[encoded data removed]",
      "text/plain": [
       "<Figure size 432x288 with 1 Axes>"
      ]
     },
     "metadata": {
      "needs_background": "light"
     },
     "output_type": "display_data"
    }
   ],
   "source": [
    "# 평균 10, 표준편차 2인 샘플 10000개\n",
    "data1 = np.random.normal(10,2,100000)\n",
    "plt.hist(data1,bins=1000)\n",
    "plt.show()"
   ]
  },
  {
   "cell_type": "markdown",
   "id": "cd33815b",
   "metadata": {},
   "source": [
    "**np.random.rand(m1,m2,...,mn)**\n",
    "- shape이 (m1,m2,...,mn) 인 배열 생성 후 난수로 초기화"
   ]
  },
  {
   "cell_type": "code",
   "execution_count": 22,
   "id": "e914399d",
   "metadata": {},
   "outputs": [
    {
     "name": "stdout",
     "output_type": "stream",
     "text": [
      "type: <class 'numpy.ndarray'>\n",
      "shape: (3, 2),dimension: 2,dtype: float64\n",
      "Array's Data:\n",
      " [[0.33005826 0.40803719]\n",
      " [0.00672988 0.72389086]\n",
      " [0.59487318 0.78049191]]\n",
      "----------------------------------------\n"
     ]
    }
   ],
   "source": [
    "arr_info(np.random.rand(3,2))"
   ]
  },
  {
   "cell_type": "markdown",
   "id": "e9fd95c4",
   "metadata": {},
   "source": [
    "### 표준 데이터 타입\n",
    "\n",
    "|데이터타입|설명|\n",
    "|:---|:---|\n",
    "|**np.int64**|64 비트 정수 타입|\n",
    "|**np.float32**|32 비트 부동 소수 타입|\n",
    "|**np.complex**|복소수(128 float)|\n",
    "|**np.bool**|불린 타입(True,False)|\n",
    "|**np.object**|파이썬 객체 타입|\n",
    "|**np.string_**|고정자리 스트링 타입|\n",
    "|**np.unicode_**|고정자리 유니코드 타입|"
   ]
  },
  {
   "cell_type": "code",
   "execution_count": 22,
   "id": "d0b4505b",
   "metadata": {},
   "outputs": [
    {
     "data": {
      "text/plain": [
       "array([[ True, False, False],\n",
       "       [False,  True, False],\n",
       "       [False, False,  True]])"
      ]
     },
     "execution_count": 22,
     "metadata": {},
     "output_type": "execute_result"
    }
   ],
   "source": [
    "# example\n",
    "np.eye((3),dtype=bool)"
   ]
  },
  {
   "cell_type": "markdown",
   "id": "308260f5",
   "metadata": {},
   "source": [
    "### 날짜/시간 배열 생성\n",
    "\n",
    "|코드|설명|\n",
    "|:---|:---|\n",
    "|Y|연|\n",
    "|M|월|\n",
    "|W|주|\n",
    "|D|일|\n",
    "|h|시|\n",
    "|m|분|\n",
    "|s|초|"
   ]
  },
  {
   "cell_type": "code",
   "execution_count": 23,
   "id": "a5058cdd",
   "metadata": {},
   "outputs": [
    {
     "name": "stdout",
     "output_type": "stream",
     "text": [
      "type: <class 'numpy.ndarray'>\n",
      "shape: (),dimension: 0,dtype: datetime64[D]\n",
      "Array's Data:\n",
      " 2023-02-03\n",
      "----------------------------------------\n"
     ]
    }
   ],
   "source": [
    "# dtype = np.datetime64\n",
    "# 날짜 시간을 나타냄\n",
    "date = np.array('2023-02-03',dtype=np.datetime64)\n",
    "arr_info(date)"
   ]
  },
  {
   "cell_type": "code",
   "execution_count": 24,
   "id": "ddeeefca",
   "metadata": {},
   "outputs": [
    {
     "data": {
      "text/plain": [
       "array(['2023-02-03', '2023-02-04', '2023-02-05', '2023-02-06',\n",
       "       '2023-02-07', '2023-02-08', '2023-02-09', '2023-02-10',\n",
       "       '2023-02-11', '2023-02-12', '2023-02-13', '2023-02-14'],\n",
       "      dtype='datetime64[D]')"
      ]
     },
     "execution_count": 24,
     "metadata": {},
     "output_type": "execute_result"
    }
   ],
   "source": [
    "# 날짜 연산 가능\n",
    "date + np.arange(12)"
   ]
  },
  {
   "cell_type": "code",
   "execution_count": 25,
   "id": "7153f36e",
   "metadata": {},
   "outputs": [
    {
     "data": {
      "text/plain": [
       "numpy.datetime64('2023-02-03T13:03:40')"
      ]
     },
     "execution_count": 25,
     "metadata": {},
     "output_type": "execute_result"
    }
   ],
   "source": [
    "datetime = np.datetime64('2023-02-03 13:03:40')\n",
    "datetime"
   ]
  },
  {
   "cell_type": "markdown",
   "id": "f3c13bb7",
   "metadata": {},
   "source": [
    "## 배열 조회"
   ]
  },
  {
   "cell_type": "markdown",
   "id": "28709e05",
   "metadata": {},
   "source": [
    "### 배열 속성 정보\n",
    "\n",
    "|코드|설명|\n",
    "|:---|:---|\n",
    "|A.shape|배열의 모양|\n",
    "|len(A)|배열의 길이|\n",
    "|A.ndim|배열의 차원|\n",
    "|A.size|배열의 요소 수(만약 shape이 k,m,n이면 kmn개)|\n",
    "|A.dtype|배열 타입|\n",
    "|A.dtype.name|배열 타입 명|\n",
    "|A.astype(np.int)|배열 타입 변환|"
   ]
  },
  {
   "cell_type": "markdown",
   "id": "ac2ed1da",
   "metadata": {},
   "source": [
    "### 인덱싱(Indexing)"
   ]
  },
  {
   "cell_type": "code",
   "execution_count": 26,
   "id": "367f3a63",
   "metadata": {},
   "outputs": [
    {
     "name": "stdout",
     "output_type": "stream",
     "text": [
      "[6 8 3 6 7 4]\n",
      "6 8 4\n"
     ]
    }
   ],
   "source": [
    "# 기본 파이썬 문법처럼 indexing 가능\n",
    "A = np.array([6,8,3,6,7,4])\n",
    "print(A)\n",
    "print(A[0],A[1],A[-1])"
   ]
  },
  {
   "cell_type": "code",
   "execution_count": 27,
   "id": "d34001f1",
   "metadata": {},
   "outputs": [
    {
     "name": "stdout",
     "output_type": "stream",
     "text": [
      "[[1.5 3.  5. ]\n",
      " [2.  4.  6. ]]\n",
      "1.5 3.0 5.0\n",
      "[1.5 3.  5. ]\n"
     ]
    }
   ],
   "source": [
    "print(b)\n",
    "print(b[0,0],b[0,1],b[0,2])\n",
    "print(b[0,:])"
   ]
  },
  {
   "cell_type": "code",
   "execution_count": 28,
   "id": "5d3e5951",
   "metadata": {},
   "outputs": [
    {
     "name": "stdout",
     "output_type": "stream",
     "text": [
      "[[[ 1  2  3]\n",
      "  [ 4  5  6]\n",
      "  [ 7  8  9]]\n",
      "\n",
      " [[10 11 12]\n",
      "  [13 14 15]\n",
      "  [16 17 18]]\n",
      "\n",
      " [[19 20 21]\n",
      "  [22 23 24]\n",
      "  [25 26 27]]]\n"
     ]
    }
   ],
   "source": [
    "u = np.array([\n",
    "    [[1,2,3],[4,5,6],[7,8,9]],\n",
    "    [[10,11,12],[13,14,15],[16,17,18]],\n",
    "    [[19,20,21],[22,23,24],[25,26,27]]\n",
    "])\n",
    "\n",
    "print(u)"
   ]
  },
  {
   "cell_type": "code",
   "execution_count": 29,
   "id": "d0b1e652",
   "metadata": {},
   "outputs": [
    {
     "name": "stdout",
     "output_type": "stream",
     "text": [
      "5\n",
      "26\n"
     ]
    }
   ],
   "source": [
    "print(u[0,1,1])\n",
    "print(u[2,2,1])"
   ]
  },
  {
   "cell_type": "markdown",
   "id": "85c03b93",
   "metadata": {},
   "source": [
    "### 슬라이싱(Slicing)"
   ]
  },
  {
   "cell_type": "markdown",
   "id": "e57a95c2",
   "metadata": {},
   "source": [
    "**array[start:stop:step]**"
   ]
  },
  {
   "cell_type": "code",
   "execution_count": 30,
   "id": "34297e37",
   "metadata": {},
   "outputs": [
    {
     "name": "stdout",
     "output_type": "stream",
     "text": [
      "[6 8 3 6 7 4]\n"
     ]
    }
   ],
   "source": [
    "print(A)"
   ]
  },
  {
   "cell_type": "code",
   "execution_count": 31,
   "id": "1c07829d",
   "metadata": {},
   "outputs": [
    {
     "name": "stdout",
     "output_type": "stream",
     "text": [
      "[6 8 3 6]\n"
     ]
    }
   ],
   "source": [
    "print(A[0:4])"
   ]
  },
  {
   "cell_type": "code",
   "execution_count": 32,
   "id": "8c688498",
   "metadata": {},
   "outputs": [
    {
     "name": "stdout",
     "output_type": "stream",
     "text": [
      "[4 7 6 3 8 6]\n"
     ]
    }
   ],
   "source": [
    "print(A[::-1])"
   ]
  },
  {
   "cell_type": "markdown",
   "id": "ef6bfd75",
   "metadata": {},
   "source": [
    "**불리언 인덱싱(Boolean Indexing)**\n",
    "- 배열 각 요소의 선택 여부를 불리언(True or False)로 지정\n",
    "- True 값인 인덱스의 값만 조회"
   ]
  },
  {
   "cell_type": "code",
   "execution_count": 33,
   "id": "0c866739",
   "metadata": {},
   "outputs": [
    {
     "name": "stdout",
     "output_type": "stream",
     "text": [
      "[6 8 3 6 7 4]\n",
      "[8 3 6 4]\n"
     ]
    }
   ],
   "source": [
    "print(A)\n",
    "bi = [False,True,True,True,False,True]\n",
    "print(A[bi])"
   ]
  },
  {
   "cell_type": "markdown",
   "id": "b9db6397",
   "metadata": {},
   "source": [
    "## 배열 값 삽입/수정/삭제/복사"
   ]
  },
  {
   "cell_type": "markdown",
   "id": "c92ac441",
   "metadata": {},
   "source": [
    "### 배열 값 삽입\n",
    "- **np.insert(arr,obj,values,axis=None)** :배열의 특정 위치에 값 삽입\n",
    "- axis를 지정하지 않으면 1차원 배열로 변환\n",
    "- 추가할 방향을 axis로 지정\n",
    "    - axis=0 : row\n",
    "    - axis=1 : column\n",
    "- 원본 배열 변경없이 새로운 배열 반환"
   ]
  },
  {
   "cell_type": "code",
   "execution_count": 30,
   "id": "96c65e26",
   "metadata": {},
   "outputs": [
    {
     "name": "stdout",
     "output_type": "stream",
     "text": [
      "[1 2 3 4 5 6]\n"
     ]
    }
   ],
   "source": [
    "a = np.array([1,2,3,4,5,6])\n",
    "print(a)"
   ]
  },
  {
   "cell_type": "code",
   "execution_count": 31,
   "id": "72d418b2",
   "metadata": {},
   "outputs": [
    {
     "name": "stdout",
     "output_type": "stream",
     "text": [
      "[10  1  2  3  4  5  6]\n",
      "[1 2 3 4 5 6]\n"
     ]
    }
   ],
   "source": [
    "b1 = np.insert(a,0,10)\n",
    "print(b1)\n",
    "print(a)"
   ]
  },
  {
   "cell_type": "markdown",
   "id": "ba75f76b",
   "metadata": {},
   "source": [
    "### 배열 값 수정\n",
    "- 배열의 인덱싱으로 접근하여 값 수정"
   ]
  },
  {
   "cell_type": "code",
   "execution_count": 32,
   "id": "6ef3385a",
   "metadata": {},
   "outputs": [
    {
     "name": "stdout",
     "output_type": "stream",
     "text": [
      "[8 2 3 4 5 6]\n"
     ]
    }
   ],
   "source": [
    "a[0]=8\n",
    "print(a)"
   ]
  },
  {
   "cell_type": "markdown",
   "id": "47a52679",
   "metadata": {},
   "source": [
    "### 배열 값 삭제\n",
    "- **np.delete(arr,obj,axis=None)** : 배열의 특정 위치에 값 삭제\n",
    "- axis를 지정하지 않으면 1차원 배열로 변환\n",
    "- 삭제할 방향을 axis로 지정\n",
    "    - axis=0 : row\n",
    "    - axis=1 : column\n",
    "- 원본 배열 변경없이 새로운 배열 반환"
   ]
  },
  {
   "cell_type": "code",
   "execution_count": 33,
   "id": "8590eb86",
   "metadata": {},
   "outputs": [
    {
     "name": "stdout",
     "output_type": "stream",
     "text": [
      "[8 2 3 4 5 6]\n",
      "[2 3 4 5 6]\n"
     ]
    }
   ],
   "source": [
    "print(a)\n",
    "print(np.delete(a,0))"
   ]
  },
  {
   "cell_type": "markdown",
   "id": "729b8def",
   "metadata": {},
   "source": [
    "### 배열 값 복사\n",
    "- 리스트 자료형과 달리 배열의 슬라이스는 복사본이 아님(원본배열에 영향을 줌, 동일한 메모리 위치라는 것을 가져옴)\n",
    "\n",
    "- **copy()**: 배열이나 하위 배열 내의 값을 명시적으로 복사"
   ]
  },
  {
   "cell_type": "code",
   "execution_count": 34,
   "id": "7344e32b",
   "metadata": {},
   "outputs": [
    {
     "name": "stdout",
     "output_type": "stream",
     "text": [
      "[8 2 3 4 5 6]\n",
      "[8 2]\n",
      "[0 0]\n",
      "[0 0 3 4 5 6]\n"
     ]
    }
   ],
   "source": [
    "print(a)\n",
    "a_sub = a[0:2]\n",
    "print(a_sub)\n",
    "a_sub[::]=0\n",
    "print(a_sub)\n",
    "print(a)"
   ]
  },
  {
   "cell_type": "markdown",
   "id": "754bfc9c",
   "metadata": {},
   "source": [
    "## 배열 변환"
   ]
  },
  {
   "cell_type": "markdown",
   "id": "4f16ebd7",
   "metadata": {},
   "source": [
    "### 배열 전치(transpose)"
   ]
  },
  {
   "cell_type": "code",
   "execution_count": 35,
   "id": "6cabe602",
   "metadata": {},
   "outputs": [
    {
     "name": "stdout",
     "output_type": "stream",
     "text": [
      "[[1.5 3.  5. ]\n",
      " [2.  4.  6. ]]\n",
      "[[1.5 2. ]\n",
      " [3.  4. ]\n",
      " [5.  6. ]]\n"
     ]
    }
   ],
   "source": [
    "print(b)\n",
    "print(b.T)"
   ]
  },
  {
   "cell_type": "markdown",
   "id": "7e46da21",
   "metadata": {},
   "source": [
    "### 배열 재구조화\n",
    "- array 객체.ravel() : 1차원 배열로 변경\n",
    "- array 객체.reshape(a,newshape,order='C') :배열의 형상을 변경 "
   ]
  },
  {
   "cell_type": "code",
   "execution_count": 49,
   "id": "fe969a6b",
   "metadata": {},
   "outputs": [
    {
     "name": "stdout",
     "output_type": "stream",
     "text": [
      "[[1.5 3.  5. ]\n",
      " [2.  4.  6. ]]\n"
     ]
    },
    {
     "data": {
      "text/plain": [
       "array([1.5, 3. , 5. , 2. , 4. , 6. ])"
      ]
     },
     "execution_count": 49,
     "metadata": {},
     "output_type": "execute_result"
    }
   ],
   "source": [
    "print(b)\n",
    "b.ravel()"
   ]
  },
  {
   "cell_type": "code",
   "execution_count": 50,
   "id": "570e7a11",
   "metadata": {},
   "outputs": [
    {
     "data": {
      "text/plain": [
       "array([[1.5],\n",
       "       [3. ],\n",
       "       [5. ],\n",
       "       [2. ],\n",
       "       [4. ],\n",
       "       [6. ]])"
      ]
     },
     "execution_count": 50,
     "metadata": {},
     "output_type": "execute_result"
    }
   ],
   "source": [
    "b.reshape((6,1))"
   ]
  },
  {
   "cell_type": "markdown",
   "id": "4c5673a3",
   "metadata": {},
   "source": [
    "### 배열 크기 변경\n",
    "- 배열의 모양만 변경"
   ]
  },
  {
   "cell_type": "code",
   "execution_count": 52,
   "id": "6d22f7e3",
   "metadata": {},
   "outputs": [
    {
     "name": "stdout",
     "output_type": "stream",
     "text": [
      "[ 0  1  2  3  4  5  6  7  8  9 10 11 12 13 14 15 16 17 18 19 20 21 22 23]\n"
     ]
    }
   ],
   "source": [
    "arr = np.arange(24)\n",
    "print(arr)"
   ]
  },
  {
   "cell_type": "code",
   "execution_count": 53,
   "id": "70929cd3",
   "metadata": {},
   "outputs": [
    {
     "name": "stdout",
     "output_type": "stream",
     "text": [
      "type: <class 'numpy.ndarray'>\n",
      "shape: (24,),dimension: 1,dtype: int32\n",
      "Array's Data:\n",
      " [ 0  1  2  3  4  5  6  7  8  9 10 11 12 13 14 15 16 17 18 19 20 21 22 23]\n",
      "----------------------------------------\n",
      "type: <class 'numpy.ndarray'>\n",
      "shape: (3, 8),dimension: 2,dtype: int32\n",
      "Array's Data:\n",
      " [[ 0  1  2  3  4  5  6  7]\n",
      " [ 8  9 10 11 12 13 14 15]\n",
      " [16 17 18 19 20 21 22 23]]\n",
      "----------------------------------------\n"
     ]
    }
   ],
   "source": [
    "arr_info(arr)\n",
    "arr.resize(3,8)\n",
    "arr_info(arr)"
   ]
  },
  {
   "cell_type": "markdown",
   "id": "40f7f82e",
   "metadata": {},
   "source": [
    "- resize시 원래보다 배열 크기를 크게하면 남은 공간은 0으로 채워짐\n",
    "- 작게하면 포함되지 않은 값은 삭제"
   ]
  },
  {
   "cell_type": "markdown",
   "id": "8c4ec69b",
   "metadata": {},
   "source": [
    "### 배열 추가\n",
    "- np.append(arr,values,axis=None) : 배열의 끝에 값 추가"
   ]
  },
  {
   "cell_type": "code",
   "execution_count": 55,
   "id": "1de5bc9a",
   "metadata": {},
   "outputs": [
    {
     "name": "stdout",
     "output_type": "stream",
     "text": [
      "[6 8 3 6 7 4]\n"
     ]
    },
    {
     "data": {
      "text/plain": [
       "array([ 6,  8,  3,  6,  7,  4, 20])"
      ]
     },
     "execution_count": 55,
     "metadata": {},
     "output_type": "execute_result"
    }
   ],
   "source": [
    "print(A)\n",
    "np.append(A,20)"
   ]
  },
  {
   "cell_type": "markdown",
   "id": "6d00fa87",
   "metadata": {},
   "source": [
    "- axis 지정이 없으면 1차원 배열 형태로 변형되어 결합"
   ]
  },
  {
   "cell_type": "code",
   "execution_count": 56,
   "id": "57735f67",
   "metadata": {},
   "outputs": [
    {
     "name": "stdout",
     "output_type": "stream",
     "text": [
      "[[1.5 3.  5. ]\n",
      " [2.  4.  6. ]]\n"
     ]
    },
    {
     "data": {
      "text/plain": [
       "array([1.5, 3. , 5. , 2. , 4. , 6. , 7. ])"
      ]
     },
     "execution_count": 56,
     "metadata": {},
     "output_type": "execute_result"
    }
   ],
   "source": [
    "print(b)\n",
    "np.append(b,7)"
   ]
  },
  {
   "cell_type": "code",
   "execution_count": 57,
   "id": "054e3d2c",
   "metadata": {},
   "outputs": [
    {
     "name": "stdout",
     "output_type": "stream",
     "text": [
      "[[1 2 3]\n",
      " [4 5 6]\n",
      " [7 8 9]]\n",
      "[[10 11 12]\n",
      " [13 14 15]\n",
      " [16 17 18]]\n"
     ]
    }
   ],
   "source": [
    "# 데모 배열 생성\n",
    "a = np.arange(1,10).reshape(3,3)\n",
    "print(a)\n",
    "\n",
    "b = np.arange(10,19).reshape(3,3)\n",
    "print(b)"
   ]
  },
  {
   "cell_type": "markdown",
   "id": "cb449657",
   "metadata": {},
   "source": [
    "- axis를 0으로 지정\n",
    "- shape[0]을 제외한 나머지 shape은 같아야 함"
   ]
  },
  {
   "cell_type": "code",
   "execution_count": 59,
   "id": "c9c4ab24",
   "metadata": {},
   "outputs": [
    {
     "data": {
      "text/plain": [
       "array([[ 1,  2,  3],\n",
       "       [ 4,  5,  6],\n",
       "       [ 7,  8,  9],\n",
       "       [10, 11, 12],\n",
       "       [13, 14, 15],\n",
       "       [16, 17, 18]])"
      ]
     },
     "execution_count": 59,
     "metadata": {},
     "output_type": "execute_result"
    }
   ],
   "source": [
    "np.append(a,b,axis=0)"
   ]
  },
  {
   "cell_type": "markdown",
   "id": "ef4be1b0",
   "metadata": {},
   "source": [
    "- axis를 1으로 지정\n",
    "- shape[1]을 제외한 나머지 shape은 같아야 함"
   ]
  },
  {
   "cell_type": "code",
   "execution_count": 60,
   "id": "32b354b5",
   "metadata": {},
   "outputs": [
    {
     "data": {
      "text/plain": [
       "array([[ 1,  2,  3, 10, 11, 12],\n",
       "       [ 4,  5,  6, 13, 14, 15],\n",
       "       [ 7,  8,  9, 16, 17, 18]])"
      ]
     },
     "execution_count": 60,
     "metadata": {},
     "output_type": "execute_result"
    }
   ],
   "source": [
    "np.append(a,b,axis=1)"
   ]
  },
  {
   "cell_type": "markdown",
   "id": "cfc9fcb5",
   "metadata": {},
   "source": [
    "### 배열 결합\n",
    "- np.concatenate((a1,a2,...),axis=0) : 튜플이나 배열의 리스트를 인수로 사용해 배열 연결"
   ]
  },
  {
   "cell_type": "code",
   "execution_count": 61,
   "id": "fd3d88b3",
   "metadata": {},
   "outputs": [
    {
     "data": {
      "text/plain": [
       "array([1, 3, 5, 2, 4, 6])"
      ]
     },
     "execution_count": 61,
     "metadata": {},
     "output_type": "execute_result"
    }
   ],
   "source": [
    "a1 = np.array([1,3,5])\n",
    "b1 = np.array([2,4,6])\n",
    "np.concatenate([a1,b1])"
   ]
  },
  {
   "cell_type": "code",
   "execution_count": 62,
   "id": "462040fc",
   "metadata": {},
   "outputs": [
    {
     "data": {
      "text/plain": [
       "array([[ 1,  2,  3],\n",
       "       [ 4,  5,  6],\n",
       "       [ 7,  8,  9],\n",
       "       [11, 12, 13],\n",
       "       [14, 15, 16],\n",
       "       [17, 18, 19]])"
      ]
     },
     "execution_count": 62,
     "metadata": {},
     "output_type": "execute_result"
    }
   ],
   "source": [
    "a3 = np.arange(1,10).reshape(3,3)\n",
    "a4 = np.arange(11,20).reshape(3,3)\n",
    "np.concatenate([a3,a4],axis=0)"
   ]
  },
  {
   "cell_type": "code",
   "execution_count": 63,
   "id": "63e9f4ce",
   "metadata": {},
   "outputs": [
    {
     "data": {
      "text/plain": [
       "array([[ 1,  2,  3, 11, 12, 13],\n",
       "       [ 4,  5,  6, 14, 15, 16],\n",
       "       [ 7,  8,  9, 17, 18, 19]])"
      ]
     },
     "execution_count": 63,
     "metadata": {},
     "output_type": "execute_result"
    }
   ],
   "source": [
    "np.concatenate([a3,a4],axis=1)"
   ]
  },
  {
   "cell_type": "markdown",
   "id": "4bbfac51",
   "metadata": {},
   "source": [
    "#### np.vstack(tuple)\n",
    "- 튜플로 설정된 여러 배열을 수직 방향으로 연결(axis=0 방향)\n",
    "- np.concatenate(tuple,axis=0)와 동일\n",
    "- 수직 스택(vertical stack), 1차원으로 연결"
   ]
  },
  {
   "cell_type": "code",
   "execution_count": 64,
   "id": "4e74ab1f",
   "metadata": {},
   "outputs": [
    {
     "data": {
      "text/plain": [
       "array([[ 1,  2,  3],\n",
       "       [ 4,  5,  6],\n",
       "       [ 7,  8,  9],\n",
       "       [11, 12, 13],\n",
       "       [14, 15, 16],\n",
       "       [17, 18, 19]])"
      ]
     },
     "execution_count": 64,
     "metadata": {},
     "output_type": "execute_result"
    }
   ],
   "source": [
    "np.vstack([a3,a4])"
   ]
  },
  {
   "cell_type": "markdown",
   "id": "6b30f8fd",
   "metadata": {},
   "source": [
    "#### np.hstack(tuple)\n",
    "- 튜플로 설정된 여러 배열을 수평방향으로 연결(axis=1 방향)\n",
    "- np.concatenate(tuple,axis=1)와 동일\n",
    "- 수평 스택(horizontal stack), 2차원으로 연결"
   ]
  },
  {
   "cell_type": "code",
   "execution_count": 65,
   "id": "db3102e1",
   "metadata": {},
   "outputs": [
    {
     "data": {
      "text/plain": [
       "array([[ 1,  2,  3, 11, 12, 13],\n",
       "       [ 4,  5,  6, 14, 15, 16],\n",
       "       [ 7,  8,  9, 17, 18, 19]])"
      ]
     },
     "execution_count": 65,
     "metadata": {},
     "output_type": "execute_result"
    }
   ],
   "source": [
    "np.hstack([a3,a4])"
   ]
  },
  {
   "cell_type": "markdown",
   "id": "d8b33483",
   "metadata": {},
   "source": [
    "- dstack() : depth stack으로 3차원으로 연결"
   ]
  },
  {
   "cell_type": "code",
   "execution_count": 66,
   "id": "b3a2fec1",
   "metadata": {},
   "outputs": [
    {
     "data": {
      "text/plain": [
       "array([[[ 1, 11],\n",
       "        [ 2, 12],\n",
       "        [ 3, 13]],\n",
       "\n",
       "       [[ 4, 14],\n",
       "        [ 5, 15],\n",
       "        [ 6, 16]],\n",
       "\n",
       "       [[ 7, 17],\n",
       "        [ 8, 18],\n",
       "        [ 9, 19]]])"
      ]
     },
     "execution_count": 66,
     "metadata": {},
     "output_type": "execute_result"
    }
   ],
   "source": [
    "np.dstack([a3,a4])"
   ]
  },
  {
   "cell_type": "markdown",
   "id": "3f33e7c7",
   "metadata": {},
   "source": [
    "- stack(): 새로운 차원으로 연결"
   ]
  },
  {
   "cell_type": "code",
   "execution_count": 67,
   "id": "f87e529c",
   "metadata": {},
   "outputs": [
    {
     "data": {
      "text/plain": [
       "array([[[ 1,  2,  3],\n",
       "        [ 4,  5,  6],\n",
       "        [ 7,  8,  9]],\n",
       "\n",
       "       [[11, 12, 13],\n",
       "        [14, 15, 16],\n",
       "        [17, 18, 19]]])"
      ]
     },
     "execution_count": 67,
     "metadata": {},
     "output_type": "execute_result"
    }
   ],
   "source": [
    "np.stack([a3,a4])"
   ]
  },
  {
   "cell_type": "markdown",
   "id": "40d8832f",
   "metadata": {},
   "source": [
    "### 배열 분할"
   ]
  },
  {
   "cell_type": "markdown",
   "id": "3e4f50de",
   "metadata": {},
   "source": [
    "- np.split(array,indices_or_sections,axis=0) : 배열 분할"
   ]
  },
  {
   "cell_type": "code",
   "execution_count": 71,
   "id": "97a36f87",
   "metadata": {},
   "outputs": [
    {
     "name": "stdout",
     "output_type": "stream",
     "text": [
      "[0 1 2 3 4 5 6 7 8 9]\n",
      "[array([0, 1, 2, 3]), array([4, 5, 6, 7, 8, 9])]\n"
     ]
    }
   ],
   "source": [
    "a = np.arange(0,10)\n",
    "print(a)\n",
    "print(np.split(a,[4]))"
   ]
  },
  {
   "cell_type": "markdown",
   "id": "ce0d4a63",
   "metadata": {},
   "source": [
    "- np.vsplit(array,indices_or_sections) : 수직 분할, 1차원으로 분할"
   ]
  },
  {
   "cell_type": "code",
   "execution_count": 72,
   "id": "776d99ff",
   "metadata": {},
   "outputs": [
    {
     "name": "stdout",
     "output_type": "stream",
     "text": [
      "[[1 2 3]\n",
      " [4 5 6]\n",
      " [7 8 9]]\n"
     ]
    },
    {
     "data": {
      "text/plain": [
       "[array([[1, 2, 3],\n",
       "        [4, 5, 6]]),\n",
       " array([[7, 8, 9]])]"
      ]
     },
     "execution_count": 72,
     "metadata": {},
     "output_type": "execute_result"
    }
   ],
   "source": [
    "print(a3)\n",
    "np.vsplit(a3,[2])"
   ]
  },
  {
   "cell_type": "markdown",
   "id": "3be45dad",
   "metadata": {},
   "source": [
    "- hsplit() : 수평 분할, 2차원으로 분할"
   ]
  },
  {
   "cell_type": "code",
   "execution_count": 73,
   "id": "b83fd4c0",
   "metadata": {},
   "outputs": [
    {
     "data": {
      "text/plain": [
       "[array([[1, 2],\n",
       "        [4, 5],\n",
       "        [7, 8]]),\n",
       " array([[3],\n",
       "        [6],\n",
       "        [9]])]"
      ]
     },
     "execution_count": 73,
     "metadata": {},
     "output_type": "execute_result"
    }
   ],
   "source": [
    "np.hsplit(a3,[2])"
   ]
  },
  {
   "cell_type": "markdown",
   "id": "cf8a9038",
   "metadata": {},
   "source": [
    "- dsplit() : 깊이 분할, 3차원으로 분할"
   ]
  },
  {
   "cell_type": "code",
   "execution_count": 75,
   "id": "a4ea6ae0",
   "metadata": {},
   "outputs": [
    {
     "name": "stdout",
     "output_type": "stream",
     "text": [
      "[[[ 1  2  3]\n",
      "  [ 4  5  6]\n",
      "  [ 7  8  9]]\n",
      "\n",
      " [[10 11 12]\n",
      "  [13 14 15]\n",
      "  [16 17 18]]\n",
      "\n",
      " [[19 20 21]\n",
      "  [22 23 24]\n",
      "  [25 26 27]]]\n"
     ]
    },
    {
     "data": {
      "text/plain": [
       "[array([[[ 1,  2],\n",
       "         [ 4,  5],\n",
       "         [ 7,  8]],\n",
       " \n",
       "        [[10, 11],\n",
       "         [13, 14],\n",
       "         [16, 17]],\n",
       " \n",
       "        [[19, 20],\n",
       "         [22, 23],\n",
       "         [25, 26]]]),\n",
       " array([[[ 3],\n",
       "         [ 6],\n",
       "         [ 9]],\n",
       " \n",
       "        [[12],\n",
       "         [15],\n",
       "         [18]],\n",
       " \n",
       "        [[21],\n",
       "         [24],\n",
       "         [27]]])]"
      ]
     },
     "execution_count": 75,
     "metadata": {},
     "output_type": "execute_result"
    }
   ],
   "source": [
    "A3 = np.arange(1,28).reshape(3,3,3)\n",
    "print(A3)\n",
    "np.dsplit(A3,[2])"
   ]
  },
  {
   "cell_type": "markdown",
   "id": "ddb7416c",
   "metadata": {},
   "source": [
    "## 배열 연산\n",
    "- Numpy의 배열 연산은 벡터화(vectorized) 연산을 사용\n",
    "- 일반적으로 Numpy의 범용 함수(universal functions)를 통해 구현\n",
    "- 배열 요소에 대한 반복적인 계산을 효율적으로 수행"
   ]
  },
  {
   "cell_type": "markdown",
   "id": "3201cc58",
   "metadata": {},
   "source": [
    "### 브로드캐스팅(Broadcasting)\n",
    "- 두 배열 간의 shape이 다를 경우 두 배열 간의 형상을 맞추는 과정\n",
    "- 데이터 분석에서 평균벡터를 빼줘야하거나 할 때 쓰일 수 있겠다."
   ]
  },
  {
   "cell_type": "code",
   "execution_count": 78,
   "id": "6476cc02",
   "metadata": {},
   "outputs": [
    {
     "name": "stdout",
     "output_type": "stream",
     "text": [
      "[[10]\n",
      " [11]\n",
      " [12]]\n",
      "--------------------\n",
      "After Broadcasting\n",
      " [[0]\n",
      " [1]\n",
      " [2]]\n"
     ]
    }
   ],
   "source": [
    "A = np.arange(10,13).reshape(3,1)\n",
    "print(A)\n",
    "print('-'*20)\n",
    "print(\"After Broadcasting\\n\",A-10)"
   ]
  },
  {
   "cell_type": "markdown",
   "id": "d0281a89",
   "metadata": {},
   "source": [
    "### 산술 연산\n",
    "\n",
    "|연산자|함수|설명|\n",
    "|:---|:---|:---|\n",
    "|+|**np.add**|덧셈|\n",
    "|-|**np.subtract**|뺄셈|\n",
    "|-|**np.negative**|단항 음수|\n",
    "|*|**np.multiply**|곱셈|\n",
    "|/|**np.divide**|나눗셈|\n",
    "|//|**np.floor_divide**|나눗셈내림|\n",
    "|**|**np.power**|지수 연산|\n",
    "|%|**np.mod**|나머지 연산|"
   ]
  },
  {
   "cell_type": "markdown",
   "id": "14d71d10",
   "metadata": {},
   "source": [
    "#### 절대값 함수\n",
    "- absolute(), abs() : 내장된 절대값 함수 np.abs(*args,***kwrgs)"
   ]
  },
  {
   "cell_type": "code",
   "execution_count": 79,
   "id": "969d5b5d",
   "metadata": {},
   "outputs": [
    {
     "name": "stdout",
     "output_type": "stream",
     "text": [
      "[-2 -4 -1  0  2  3  1]\n",
      "[2 4 1 0 2 3 1]\n",
      "[2 4 1 0 2 3 1]\n"
     ]
    }
   ],
   "source": [
    "nums = np.array([-2,-4,-1,0,2,3,1])\n",
    "print(nums)\n",
    "print(np.abs(nums))\n",
    "print(np.absolute(nums))"
   ]
  },
  {
   "cell_type": "markdown",
   "id": "7fb30127",
   "metadata": {},
   "source": [
    "#### 제곱/제곱근 함수\n",
    "- square, sqrt : 제곱, 제곱근 함수"
   ]
  },
  {
   "cell_type": "code",
   "execution_count": 80,
   "id": "6558be5e",
   "metadata": {},
   "outputs": [
    {
     "name": "stdout",
     "output_type": "stream",
     "text": [
      "[-2 -4 -1  0  2  3  1]\n",
      "[ 4 16  1  0  4  9  1]\n"
     ]
    }
   ],
   "source": [
    "sq = np.square(nums)\n",
    "print(nums)\n",
    "print(sq)\n"
   ]
  },
  {
   "cell_type": "code",
   "execution_count": 81,
   "id": "9ac09360",
   "metadata": {},
   "outputs": [
    {
     "name": "stdout",
     "output_type": "stream",
     "text": [
      "[2. 4. 1. 0. 2. 3. 1.]\n"
     ]
    }
   ],
   "source": [
    "sqr=np.sqrt(sq)\n",
    "print(sqr)"
   ]
  },
  {
   "cell_type": "markdown",
   "id": "b49eb900",
   "metadata": {},
   "source": [
    "#### 지수와 로그 함수\n",
    "- exp, exp2, power\n",
    "- log, log2, log10"
   ]
  },
  {
   "cell_type": "code",
   "execution_count": 82,
   "id": "f92d87ea",
   "metadata": {},
   "outputs": [
    {
     "name": "stdout",
     "output_type": "stream",
     "text": [
      "[2 8 9 1 6]\n",
      "[7.38905610e+00 2.98095799e+03 8.10308393e+03 2.71828183e+00\n",
      " 4.03428793e+02]\n",
      "[  4. 256. 512.   2.  64.]\n",
      "[ 4 64 81  1 36]\n"
     ]
    }
   ],
   "source": [
    "a1 = np.random.randint(1,10,size=5)\n",
    "print(a1)\n",
    "print(np.exp(a1))\n",
    "print(np.exp2(a1))\n",
    "print(np.power(a1,2))"
   ]
  },
  {
   "cell_type": "code",
   "execution_count": 83,
   "id": "d16a783a",
   "metadata": {},
   "outputs": [
    {
     "name": "stdout",
     "output_type": "stream",
     "text": [
      "[0.69314718 2.07944154 2.19722458 0.         1.79175947]\n",
      "[1.        3.        3.169925  0.        2.5849625]\n",
      "[0.30103    0.90308999 0.95424251 0.         0.77815125]\n"
     ]
    }
   ],
   "source": [
    "print(np.log(a1))\n",
    "print(np.log2(a1))\n",
    "print(np.log10(a1))"
   ]
  },
  {
   "cell_type": "markdown",
   "id": "1a90ee40",
   "metadata": {},
   "source": [
    "## 집계 함수\n",
    "\n",
    "|함수|NaN 안전모드|설명|\n",
    "|:---|:---|:---|\n",
    "|np.sum()|np.nansum|합 계산|\n",
    "|np.cumsum()|np.nancumsum|누적합 계산|\n",
    "|np.diff()||차분 계산|\n",
    "|np.prod()|np.nanprod|곱 계산|\n",
    "|np.cumprod()|np.nancumprod|누적곱 계산|\n",
    "|**np.dot()/matmul()**||점곱/행렬곱 계산|\n",
    "|np.tensordot()||텐서곱 계산|\n",
    "|np.cross()||벡터곱|\n",
    "|np.inner()/outer()||내적/외적|\n",
    "|np.mean()|np.nanmean|평균 계산|\n",
    "|np.std()|np.nanstd|표준편차 계산|\n",
    "|np.var()|np.nanvar|분산 계산|\n",
    "|np.min()|np.nanmin|최소값|\n",
    "|np.max()|np.nanmax|최대값|\n",
    "|np.argmin()|np.nanargmin|최소값 인덱스|\n",
    "|np.argmax()|np.nanargmax|최대값 인덱스|\n",
    "|np.median()|np.nanmedian|중앙값|\n",
    "|np.percentile()|np.nanpercentile|백분위수|\n",
    "\n"
   ]
  },
  {
   "cell_type": "markdown",
   "id": "b01d81bf",
   "metadata": {},
   "source": [
    "## 비교 연산\n",
    "\n",
    "|Operator|function|\n",
    "|:---|:---|\n",
    "|==|np.equal|\n",
    "|!=|np.not_equal|\n",
    "|<|np.less|\n",
    "|<=|np.less_equal|\n",
    "|>|np.greater|\n",
    "|>=|np.greater_equal|"
   ]
  },
  {
   "cell_type": "markdown",
   "id": "000e7927",
   "metadata": {},
   "source": [
    "### 배열 정렬"
   ]
  },
  {
   "cell_type": "code",
   "execution_count": 84,
   "id": "56496bad",
   "metadata": {},
   "outputs": [
    {
     "name": "stdout",
     "output_type": "stream",
     "text": [
      "[12 15 74 15 98  3 95 71 18 32]\n",
      "[ 3 12 15 15 18 32 71 74 95 98]\n",
      "[5 0 1 3 8 9 7 2 6 4]\n"
     ]
    }
   ],
   "source": [
    "# 원본 배열은 그대로 있음\n",
    "rd = np.random.randint(1,100,10)\n",
    "print(rd)\n",
    "print(np.sort(rd))\n",
    "print(np.argsort(rd)) # 인덱스로 어느 위치에 값이 와야하는지 반환"
   ]
  },
  {
   "cell_type": "markdown",
   "id": "34c60607",
   "metadata": {},
   "source": [
    "### 부분 정렬\n",
    "- partition(): 배열에서 k개의 작은 값을 반환"
   ]
  },
  {
   "cell_type": "code",
   "execution_count": 86,
   "id": "dd3240be",
   "metadata": {},
   "outputs": [
    {
     "name": "stdout",
     "output_type": "stream",
     "text": [
      "[12 15 74 15 98  3 95 71 18 32]\n",
      "[ 3 12 15 74 98 15 95 71 18 32]\n"
     ]
    }
   ],
   "source": [
    "print(rd)\n",
    "print(np.partition(rd,2))"
   ]
  },
  {
   "cell_type": "markdown",
   "id": "ac34819c",
   "metadata": {},
   "source": [
    "### 배열의 입출력\n",
    "\n",
    "|함수|설명|파일 종류|\n",
    "|:---|:---|:---|\n",
    "|np.save()|Numpy 배열 객체 1개를 파일에 저장|바이너리|\n",
    "|np.savez()|Numpy 배열 객체 여러 개를 파일에 저장|바이너리|\n",
    "|np.load()|Numpy 배열 저장 파일로부터 객체 로딩|바이너리|\n",
    "|np.loadtxt()|텍스트파일로부터 배열 로딩|텍스트|\n",
    "|np.savetxt()|텍스트파일에 Numpy 배열 객체 저장|텍스트|"
   ]
  },
  {
   "cell_type": "markdown",
   "id": "e97cbd50",
   "metadata": {},
   "source": [
    "#### Reference : 이수안컴퓨터연구소(https://www.youtube.com/watch?v=mirZPrWwvao&list=PL7ZVZgsnLwEEZcVusN-fV_sJhQHq833OS&index=9)"
   ]
  }
 ],
 "metadata": {
  "kernelspec": {
   "display_name": "Python 3 (ipykernel)",
   "language": "python",
   "name": "python3"
  },
  "language_info": {
   "codemirror_mode": {
    "name": "ipython",
    "version": 3
   },
   "file_extension": ".py",
   "mimetype": "text/x-python",
   "name": "python",
   "nbconvert_exporter": "python",
   "pygments_lexer": "ipython3",
   "version": "3.11.7"
  }
 },
 "nbformat": 4,
 "nbformat_minor": 5
}
